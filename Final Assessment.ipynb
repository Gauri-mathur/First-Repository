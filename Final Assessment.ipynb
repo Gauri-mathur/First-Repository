{
 "cells": [
  {
   "cell_type": "markdown",
   "id": "de44a8f2",
   "metadata": {},
   "source": [
    "# Data Science Tools and Ecosystem"
   ]
  },
  {
   "attachments": {},
   "cell_type": "markdown",
   "id": "2e1777e1",
   "metadata": {},
   "source": [
    "In this notebook, Data Science Tools and Ecosystem are summarized."
   ]
  },
  {
   "cell_type": "markdown",
   "id": "3bee3773",
   "metadata": {},
   "source": [
    "Objectives:\n",
    "+ List popular languages for Data Science.\n",
    "+ Some commonly used libraries used by Data Scientists\n",
    "+ Some open source Data Science Tools available\n",
    "+ Create tables, and lists using markdown cells in jupyter\n",
    "+ Evaluating arithmetic expressions in python\n",
    "+ Adding comments in python"
   ]
  },
  {
   "cell_type": "markdown",
   "id": "8341bfb7",
   "metadata": {},
   "source": [
    "Some of the popular languages that Data Scientists use are:\n",
    "1. Python\n",
    "2. C/C++\n",
    "3. Java\n",
    "4. Julia\n",
    "5. R"
   ]
  },
  {
   "cell_type": "markdown",
   "id": "aa6ee7bf",
   "metadata": {},
   "source": [
    "Some of the commonly used libraries used by Data Scientists include:\n",
    "1. pandas\n",
    "2. sklearn\n",
    "3. matplotlib\n",
    "4. numpy\n",
    "5. ggplot"
   ]
  },
  {
   "cell_type": "markdown",
   "id": "91e5a3cb",
   "metadata": {},
   "source": [
    "|Data Science Tools|\n",
    "|------------------|\n",
    "|MySQL|\n",
    "|Kubernetes|\n",
    "|Apache Spark|\n",
    "|Tensorflow|\n",
    "|R|\n",
    "|Scikit learn|"
   ]
  },
  {
   "cell_type": "markdown",
   "id": "3a33bf2e",
   "metadata": {},
   "source": [
    "### Below are a few examples of evaluating arithmetic expressions in Python."
   ]
  },
  {
   "cell_type": "code",
   "execution_count": 3,
   "id": "2b302371",
   "metadata": {},
   "outputs": [
    {
     "data": {
      "text/plain": [
       "17"
      ]
     },
     "execution_count": 3,
     "metadata": {},
     "output_type": "execute_result"
    }
   ],
   "source": [
    "#This is a simple arithmetic expression to multiply then add numbers.\n",
    "(3*4)+5"
   ]
  },
  {
   "cell_type": "code",
   "execution_count": 4,
   "id": "84c66e65",
   "metadata": {},
   "outputs": [
    {
     "data": {
      "text/plain": [
       "3.3333333333333335"
      ]
     },
     "execution_count": 4,
     "metadata": {},
     "output_type": "execute_result"
    }
   ],
   "source": [
    "#This will convert 200 minutes to hours by diving by 60.\n",
    "200/60"
   ]
  },
  {
   "cell_type": "markdown",
   "id": "b726707e",
   "metadata": {},
   "source": [
    "## Author\n",
    "Gauri Mathur"
   ]
  }
 ],
 "metadata": {
  "kernelspec": {
   "display_name": "Python 3 (ipykernel)",
   "language": "python",
   "name": "python3"
  },
  "language_info": {
   "codemirror_mode": {
    "name": "ipython",
    "version": 3
   },
   "file_extension": ".py",
   "mimetype": "text/x-python",
   "name": "python",
   "nbconvert_exporter": "python",
   "pygments_lexer": "ipython3",
   "version": "3.9.13"
  }
 },
 "nbformat": 4,
 "nbformat_minor": 5
}
